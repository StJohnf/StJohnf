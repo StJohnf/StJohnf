{
 "cells": [
  {
   "cell_type": "code",
   "execution_count": 23,
   "source": [
    "import speech_recognition as sr # This is the speech recognition\r\n",
    "import pyttsx3 # this is the audio\r\n",
    "import pywhatkit as kit # This opens youtube\r\n",
    "import datetime # This shows the datetime\r\n",
    "import wikipedia # This import wikipedia\r\n",
    "import pyjokes # To tell jokes"
   ],
   "outputs": [],
   "metadata": {}
  },
  {
   "cell_type": "code",
   "execution_count": 24,
   "source": [
    "listener = sr.Recognizer() #Creating a recognizer able to recognize my voice\r\n",
    "engine = pyttsx3.init() # To Jarvis talk to you\r\n",
    "voices = engine.getProperty(\"voices\") # To see what voices we have\r\n",
    "engine.setProperty(\"voice\",voices[1].id) # Here we select a voice"
   ],
   "outputs": [],
   "metadata": {}
  },
  {
   "cell_type": "code",
   "execution_count": 25,
   "source": [
    "def talk(text): # When call the talk function it will return our parameter\r\n",
    "    engine.say(text)\r\n",
    "    engine.runAndWait()\r\n"
   ],
   "outputs": [],
   "metadata": {}
  },
  {
   "cell_type": "code",
   "execution_count": 26,
   "source": [
    "def take_command():\r\n",
    "    try: # May not work\r\n",
    "        with sr.Microphone() as source:\r\n",
    "            #talk(\"Hello, I am alexa, your personal assistant\")\r\n",
    "            #talk(\"I am listening to you\")\r\n",
    "            print(\"listening...\")\r\n",
    "\r\n",
    "            voice = listener.listen(source)\r\n",
    "            command = listener.recognize_google(voice) # Pass the voice to google and google will give you the voice\r\n",
    "            command = command.lower()\r\n",
    "\r\n",
    "            if \"alexa\" in command: # If alexa is mentioned in the command\r\n",
    "                #engine.say(command) # Engine will say it\r\n",
    "                #engine.runAndWait()\r\n",
    "                command = command.replace(\"alexa\",\"\") # To replace alexa for something else\r\n",
    "                print(command)\r\n",
    "    except:\r\n",
    "        talk(\"Sorry I could not understand what the fuck you just said\")\r\n",
    "    return command # Put this, or your code will not work\r\n"
   ],
   "outputs": [],
   "metadata": {}
  },
  {
   "cell_type": "code",
   "execution_count": 29,
   "source": [
    "def run_alexa():\r\n",
    "    command = take_command() # We call the previous function, to sort a command\r\n",
    "    print(command)\r\n",
    "    if \"play\" in command: # PLay a music on youtube\r\n",
    "        song = command.replace(\"play\",\"\")\r\n",
    "        talk(\"Playing\" + song)\r\n",
    "        kit.playonyt(song)\r\n",
    "    elif \"how are you\" in command: # Asking how are you\r\n",
    "        talk(\"I am good, thanks for asking. And how are you?\")\r\n",
    "    elif \"time\" in command: # Show teh hours\r\n",
    "        time = datetime.datetime.now().strftime(\"%H:%M\")\r\n",
    "        print(time)\r\n",
    "        talk(\"Current time is \" + time)\r\n",
    "    elif \"who is\" in command: # To search who is the person on wikipedia\r\n",
    "        person = command.replace(\"who is\",\"\")\r\n",
    "        info = wikipedia.summary(person,1) # This 1 is for example the number of pages\r\n",
    "        print(info)\r\n",
    "        talk(info)\r\n",
    "    elif \"what is\" in command: # To search for something\r\n",
    "        objeto = command.replace(\"what is\",\"\")\r\n",
    "        info = wikipedia.summary(objeto,3)\r\n",
    "        print(info)\r\n",
    "        talk(info)\r\n",
    "    elif (\"when was\") in command: # To search for something\r\n",
    "        happening = command.replace(\"when was\",\"\")\r\n",
    "        info = wikipedia.summary(happening,3)\r\n",
    "        print(info)\r\n",
    "        talk(info)\r\n",
    "    elif \"tell me a joke\" in command: # Tell me joke\r\n",
    "        joke = pyjokes.get_joke()\r\n",
    "        print(joke)\r\n",
    "        talk(joke)\r\n",
    "    elif \"that was a bad joke\" in command: # Apoligise for th ebad joke\r\n",
    "        bad_joke = \"If you don't like my joke, is probably because you are not so smart as you may think\"\r\n",
    "        print(bad_joke)\r\n",
    "        talk(bad_joke)\r\n",
    "    elif \"goodbye\" in command: # To say goodbye to Alexa\r\n",
    "        goodbye = \"Goodbye Thiago, see you soon\"\r\n",
    "        print(goodbye)\r\n",
    "        talk(goodbye)\r\n",
    "    elif \"are you single\" in command: # Ask if Alexa is single\r\n",
    "        answer_to_single = \"I am currently in a relantionship with WiFi\"\r\n",
    "        print(answer_to_single)\r\n",
    "        talk(answer_to_single)\r\n",
    "\r\n"
   ],
   "outputs": [],
   "metadata": {}
  },
  {
   "cell_type": "code",
   "execution_count": 28,
   "source": [
    "while True:\r\n",
    "    run_alexa()"
   ],
   "outputs": [
    {
     "output_type": "stream",
     "name": "stdout",
     "text": [
      "listening...\n",
      "okay  play the score\n",
      "okay  play the score\n",
      "listening...\n"
     ]
    },
    {
     "output_type": "error",
     "ename": "UnboundLocalError",
     "evalue": "local variable 'command' referenced before assignment",
     "traceback": [
      "\u001b[1;31m---------------------------------------------------------------------------\u001b[0m",
      "\u001b[1;31mUnboundLocalError\u001b[0m                         Traceback (most recent call last)",
      "\u001b[1;32m<ipython-input-28-a26a76bac79c>\u001b[0m in \u001b[0;36m<module>\u001b[1;34m\u001b[0m\n\u001b[0;32m      1\u001b[0m \u001b[1;32mwhile\u001b[0m \u001b[1;32mTrue\u001b[0m\u001b[1;33m:\u001b[0m\u001b[1;33m\u001b[0m\u001b[1;33m\u001b[0m\u001b[0m\n\u001b[1;32m----> 2\u001b[1;33m     \u001b[0mrun_alexa\u001b[0m\u001b[1;33m(\u001b[0m\u001b[1;33m)\u001b[0m\u001b[1;33m\u001b[0m\u001b[1;33m\u001b[0m\u001b[0m\n\u001b[0m",
      "\u001b[1;32m<ipython-input-27-e9a0477be519>\u001b[0m in \u001b[0;36mrun_alexa\u001b[1;34m()\u001b[0m\n\u001b[0;32m      1\u001b[0m \u001b[1;32mdef\u001b[0m \u001b[0mrun_alexa\u001b[0m\u001b[1;33m(\u001b[0m\u001b[1;33m)\u001b[0m\u001b[1;33m:\u001b[0m\u001b[1;33m\u001b[0m\u001b[1;33m\u001b[0m\u001b[0m\n\u001b[1;32m----> 2\u001b[1;33m     \u001b[0mcommand\u001b[0m \u001b[1;33m=\u001b[0m \u001b[0mtake_command\u001b[0m\u001b[1;33m(\u001b[0m\u001b[1;33m)\u001b[0m \u001b[1;31m# We call the previous function, to sort a command\u001b[0m\u001b[1;33m\u001b[0m\u001b[1;33m\u001b[0m\u001b[0m\n\u001b[0m\u001b[0;32m      3\u001b[0m     \u001b[0mprint\u001b[0m\u001b[1;33m(\u001b[0m\u001b[0mcommand\u001b[0m\u001b[1;33m)\u001b[0m\u001b[1;33m\u001b[0m\u001b[1;33m\u001b[0m\u001b[0m\n\u001b[0;32m      4\u001b[0m     \u001b[1;32mif\u001b[0m \u001b[1;34m\"play\"\u001b[0m \u001b[1;32min\u001b[0m \u001b[0mcommand\u001b[0m\u001b[1;33m:\u001b[0m \u001b[1;31m# PLay a music on youtube\u001b[0m\u001b[1;33m\u001b[0m\u001b[1;33m\u001b[0m\u001b[0m\n\u001b[0;32m      5\u001b[0m         \u001b[0msong\u001b[0m \u001b[1;33m=\u001b[0m \u001b[0mcommand\u001b[0m\u001b[1;33m.\u001b[0m\u001b[0mreplace\u001b[0m\u001b[1;33m(\u001b[0m\u001b[1;34m\"play\"\u001b[0m\u001b[1;33m,\u001b[0m\u001b[1;34m\"\"\u001b[0m\u001b[1;33m)\u001b[0m\u001b[1;33m\u001b[0m\u001b[1;33m\u001b[0m\u001b[0m\n",
      "\u001b[1;32m<ipython-input-26-434f7ad83b89>\u001b[0m in \u001b[0;36mtake_command\u001b[1;34m()\u001b[0m\n\u001b[0;32m     17\u001b[0m     \u001b[1;32mexcept\u001b[0m\u001b[1;33m:\u001b[0m\u001b[1;33m\u001b[0m\u001b[1;33m\u001b[0m\u001b[0m\n\u001b[0;32m     18\u001b[0m         \u001b[0mtalk\u001b[0m\u001b[1;33m(\u001b[0m\u001b[1;34m\"Sorry I could not understand what the fuck you just said\"\u001b[0m\u001b[1;33m)\u001b[0m\u001b[1;33m\u001b[0m\u001b[1;33m\u001b[0m\u001b[0m\n\u001b[1;32m---> 19\u001b[1;33m     \u001b[1;32mreturn\u001b[0m \u001b[0mcommand\u001b[0m \u001b[1;31m# Put this, or your code will not work\u001b[0m\u001b[1;33m\u001b[0m\u001b[1;33m\u001b[0m\u001b[0m\n\u001b[0m",
      "\u001b[1;31mUnboundLocalError\u001b[0m: local variable 'command' referenced before assignment"
     ]
    }
   ],
   "metadata": {}
  }
 ],
 "metadata": {
  "orig_nbformat": 4,
  "language_info": {
   "name": "python",
   "version": "3.8.8",
   "mimetype": "text/x-python",
   "codemirror_mode": {
    "name": "ipython",
    "version": 3
   },
   "pygments_lexer": "ipython3",
   "nbconvert_exporter": "python",
   "file_extension": ".py"
  },
  "kernelspec": {
   "name": "python3",
   "display_name": "Python 3.8.8 64-bit ('base': conda)"
  },
  "interpreter": {
   "hash": "931c2896970f9f057d9fae61d338afeeeb91f116304f05fe78255052ba30b701"
  }
 },
 "nbformat": 4,
 "nbformat_minor": 2
}